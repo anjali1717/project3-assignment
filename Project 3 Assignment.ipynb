{
 "cells": [
  {
   "cell_type": "code",
   "execution_count": 17,
   "metadata": {},
   "outputs": [
    {
     "name": "stdout",
     "output_type": "stream",
     "text": [
      "Collecting pytube3\n",
      "  Downloading pytube3-9.6.4-py3-none-any.whl (38 kB)\n",
      "Requirement already satisfied: typing-extensions in d:\\users\\dell\\anaconda3\\lib\\site-packages (from pytube3) (3.7.4.3)\n",
      "Installing collected packages: pytube3\n",
      "Successfully installed pytube3-9.6.4\n"
     ]
    }
   ],
   "source": [
    "!pip install pytube3"
   ]
  },
  {
   "cell_type": "code",
   "execution_count": null,
   "metadata": {},
   "outputs": [],
   "source": []
  },
  {
   "cell_type": "code",
   "execution_count": null,
   "metadata": {},
   "outputs": [],
   "source": []
  },
  {
   "cell_type": "code",
   "execution_count": null,
   "metadata": {},
   "outputs": [],
   "source": []
  },
  {
   "cell_type": "code",
   "execution_count": null,
   "metadata": {},
   "outputs": [],
   "source": []
  },
  {
   "cell_type": "code",
   "execution_count": null,
   "metadata": {},
   "outputs": [],
   "source": []
  },
  {
   "cell_type": "code",
   "execution_count": null,
   "metadata": {},
   "outputs": [],
   "source": []
  },
  {
   "cell_type": "code",
   "execution_count": null,
   "metadata": {},
   "outputs": [
    {
     "name": "stdout",
     "output_type": "stream",
     "text": [
      "*******video.title********\n",
      "Thoughts on humanity, fame and love | Shah Rukh Khan\n",
      "******Thumbnail Image*******\n",
      "https://i.ytimg.com/vi/0NV1KdWRHck/maxresdefault.jpg\n"
     ]
    }
   ],
   "source": [
    "from pytube import YouTube\n",
    "\n",
    "url = 'https://www.youtube.com/watch?v=0NV1KdWRHck'\n",
    "\n",
    "my_video = YouTube(url)\n",
    "\n",
    "print(\"*******video.title********\")\n",
    "print(my_video.title)\n",
    "\n",
    "print(\"******Thumbnail Image*******\")\n",
    "print(my_video.thumbnail_url)\n",
    "\n",
    "my_video = my_video.streams.get_highest_resolution()\n",
    "my_video.download()\n"
   ]
  },
  {
   "cell_type": "code",
   "execution_count": null,
   "metadata": {},
   "outputs": [],
   "source": []
  }
 ],
 "metadata": {
  "kernelspec": {
   "display_name": "Python 3",
   "language": "python",
   "name": "python3"
  },
  "language_info": {
   "codemirror_mode": {
    "name": "ipython",
    "version": 3
   },
   "file_extension": ".py",
   "mimetype": "text/x-python",
   "name": "python",
   "nbconvert_exporter": "python",
   "pygments_lexer": "ipython3",
   "version": "3.8.5"
  }
 },
 "nbformat": 4,
 "nbformat_minor": 4
}
